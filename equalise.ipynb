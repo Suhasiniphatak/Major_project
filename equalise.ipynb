{
 "cells": [
  {
   "cell_type": "code",
   "execution_count": 1,
   "id": "4cbc38dd",
   "metadata": {},
   "outputs": [
    {
     "name": "stdout",
     "output_type": "stream",
     "text": [
      "Train set: 5000 images\n",
      "Valid set: 5000 images\n",
      "Test set: 5000 images\n"
     ]
    }
   ],
   "source": [
    "import os\n",
    "import shutil\n",
    "import random\n",
    "\n",
    "# Original directories\n",
    "train_dir = r'C:\\Users\\ADMIN\\Documents\\Project updated\\aptos-augmented-images\\train\\retina'\n",
    "valid_dir = r'C:\\Users\\ADMIN\\Documents\\Project updated\\aptos-augmented-images\\valid\\retina'\n",
    "test_dir = r'C:\\Users\\ADMIN\\Documents\\Project updated\\aptos-augmented-images\\test'\n",
    "\n",
    "# New directories\n",
    "new_train_dir = r'C:\\Users\\ADMIN\\Documents\\Project updated\\aptos-augmented-images\\train_equal\\retina'\n",
    "new_valid_dir = r'C:\\Users\\ADMIN\\Documents\\Project updated\\aptos-augmented-images\\valid_equal\\retina'\n",
    "new_test_dir = r'C:\\Users\\ADMIN\\Documents\\Project updated\\aptos-augmented-images\\test_equal'\n",
    "\n",
    "# Parameters\n",
    "images_per_class = 1000  # 5,000 per set (1,000 per class × 5 classes)\n",
    "# For 9,433 per set, use images_per_class = 1886\n",
    "\n",
    "# Function to create subset\n",
    "def create_subset(src_dir, dst_dir, images_per_class):\n",
    "    os.makedirs(dst_dir, exist_ok=True)\n",
    "    for class_name in os.listdir(src_dir):\n",
    "        class_dir = os.path.join(src_dir, class_name)\n",
    "        if not os.path.isdir(class_dir):\n",
    "            continue\n",
    "        dst_class_dir = os.path.join(dst_dir, class_name)\n",
    "        os.makedirs(dst_class_dir, exist_ok=True)\n",
    "        images = [f for f in os.listdir(class_dir) if f.endswith(('.jpg', '.png'))]\n",
    "        random.seed(42)\n",
    "        selected_images = random.sample(images, min(images_per_class, len(images)))\n",
    "        for img in selected_images:\n",
    "            shutil.copy(os.path.join(class_dir, img), os.path.join(dst_class_dir, img))\n",
    "\n",
    "# Create equalized datasets\n",
    "create_subset(train_dir, new_train_dir, images_per_class)\n",
    "create_subset(valid_dir, new_valid_dir, images_per_class)\n",
    "create_subset(test_dir, new_test_dir, images_per_class)\n",
    "\n",
    "# Verify counts\n",
    "for name, dir_path in [(\"Train\", new_train_dir), (\"Valid\", new_valid_dir), (\"Test\", new_test_dir)]:\n",
    "    total = sum(len(os.listdir(os.path.join(dir_path, c))) for c in os.listdir(dir_path) if os.path.isdir(os.path.join(dir_path, c)))\n",
    "    print(f\"{name} set: {total} images\")"
   ]
  }
 ],
 "metadata": {
  "kernelspec": {
   "display_name": "Python 3",
   "language": "python",
   "name": "python3"
  },
  "language_info": {
   "codemirror_mode": {
    "name": "ipython",
    "version": 3
   },
   "file_extension": ".py",
   "mimetype": "text/x-python",
   "name": "python",
   "nbconvert_exporter": "python",
   "pygments_lexer": "ipython3",
   "version": "3.9.11"
  }
 },
 "nbformat": 4,
 "nbformat_minor": 5
}
